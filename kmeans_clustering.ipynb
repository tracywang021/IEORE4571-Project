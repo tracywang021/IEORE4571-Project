{
 "cells": [
  {
   "cell_type": "code",
   "execution_count": null,
   "id": "44a4e68b",
   "metadata": {},
   "outputs": [],
   "source": [
    "from utils.cluster import group_kmeans, single_kmeans\n",
    "from utils.visualize import (\n",
    "    plot_distortions,\n",
    "    plot_label_distr,\n",
    "    plot_return,\n",
    ")\n",
    "\n",
    "import numpy as np\n",
    "import pandas as pd\n",
    "import matplotlib.pyplot as plt\n",
    "from sklearn.preprocessing import MinMaxScaler\n",
    "\n",
    "%load_ext autoreload\n",
    "%autoreload 2"
   ]
  },
  {
   "cell_type": "markdown",
   "id": "0d780424",
   "metadata": {},
   "source": [
    "# Clustering with data from day i and day i-1"
   ]
  },
  {
   "cell_type": "markdown",
   "id": "43862b5a",
   "metadata": {},
   "source": [
    "## Read and preprocess data"
   ]
  },
  {
   "cell_type": "code",
   "execution_count": null,
   "id": "2cdcfa4d",
   "metadata": {},
   "outputs": [],
   "source": [
    "# read data\n",
    "READ_PATH = \"data/spy_max_221118.csv\"\n",
    "df = pd.read_csv(READ_PATH)\n",
    "\n",
    "# rename columns\n",
    "rename_dict = {\"Date\": \"date\", \"Open\": \"open\", \"High\": \"high\",\n",
    "               \"Low\": \"low\", \"Close\": \"close\", \"Volume\": \"volume\"}\n",
    "df.rename(columns=rename_dict, inplace=True)\n",
    "\n",
    "# compute next day (i+1) return\n",
    "# we assume a strategy of buying at open and selling at close\n",
    "df['open_i+1'] = df['open'].shift(-1)\n",
    "df['close_i+1'] = df['close'].shift(-1)\n",
    "df.dropna(inplace=True)\n",
    "annualized_fctr = 252\n",
    "df['return_i+1'] = (df['close_i+1']-df['open_i+1'])/df['open_i+1']*annualized_fctr\n",
    "\n",
    "# add clustering attributes \n",
    "# open, high, low, close, volume from the day before\n",
    "df['open_i-1'] = df['open'].shift(1)\n",
    "df['high_i-1'] = df['high'].shift(1)\n",
    "df['low_i-1'] = df['low'].shift(1)\n",
    "df['close_i-1'] = df['close'].shift(1)\n",
    "df['volume_i-1'] = df['volume'].shift(1)\n",
    "df.dropna(inplace=True)\n",
    "# ratio between today and yesterday\n",
    "df['open/open_i-1'] = df['open']/df['open_i-1']\n",
    "df['high/high_i-1'] = df['high']/df['high_i-1']\n",
    "df['low/low_i-1'] = df['low']/df['low_i-1']\n",
    "df['close/close_i-1'] = df['close']/df['close_i-1']\n",
    "df['volume/volume_i-1'] = df['volume']/df['volume_i-1']\n",
    "\n",
    "\n",
    "# save clustering attributes to a new df\n",
    "use_cols = ['open/open_i-1', 'high/high_i-1', 'low/low_i-1', 'close/close_i-1',\n",
    "            'volume/volume_i-1']\n",
    "X = df[use_cols]\n",
    "X.head()"
   ]
  },
  {
   "cell_type": "markdown",
   "id": "b1e12bba",
   "metadata": {},
   "source": [
    "## Perform clustering and plot return distribution"
   ]
  },
  {
   "cell_type": "code",
   "execution_count": null,
   "id": "7979ea17",
   "metadata": {},
   "outputs": [],
   "source": [
    "# perform kmeans\n",
    "k_upper = 20\n",
    "distortions = group_kmeans(k_upper, X)\n",
    "# k=4 is the optimal k with elbow method\n",
    "fig_size = (12, 8)\n",
    "file_name = 'kmeans_elbow_day_i_i-1_no_norm.png'\n",
    "plot_distortions(k_upper, distortions, fig_size, file_name)"
   ]
  },
  {
   "cell_type": "code",
   "execution_count": null,
   "id": "3a985f3f",
   "metadata": {},
   "outputs": [],
   "source": [
    "# perform kmeans with optimal k=4\n",
    "opt_k = 4\n",
    "labels = single_kmeans(opt_k, X)\n",
    "# plot distribution of labels\n",
    "file_name = 'kmeans_day_i_i-1_no_norm_cluster_distr.png'\n",
    "plot_label_distr(labels, fig_size, file_name)\n",
    "# note:the clusters are very imbalanced -> maybe need a way to improve later"
   ]
  },
  {
   "cell_type": "markdown",
   "id": "c4e1a198",
   "metadata": {},
   "source": [
    "## Perform clustering with standardized data and plot return\n",
    "* variance of volume/volume_i-1 is much larger than the rest\n",
    "* it could be a good idea to standardize data before clustering"
   ]
  },
  {
   "cell_type": "code",
   "execution_count": null,
   "id": "08383d69",
   "metadata": {},
   "outputs": [],
   "source": [
    "# variance of attributes feeding into the clustering algorithm\n",
    "X.var()"
   ]
  },
  {
   "cell_type": "code",
   "execution_count": null,
   "id": "ad4e8019",
   "metadata": {},
   "outputs": [],
   "source": [
    "min_max_scaler = MinMaxScaler()\n",
    "X_minmax = min_max_scaler.fit_transform(X)\n",
    "# perform kmeans\n",
    "k_upper = 20\n",
    "distortions = group_kmeans(k_upper, X_minmax)\n",
    "# k=4 is the optimal k with elbow method\n",
    "fig_size = (12, 8)\n",
    "file_name = 'kmeans_day_i_i-1_elbow.png'\n",
    "plot_distortions(k_upper, distortions, fig_size, file_name)"
   ]
  },
  {
   "cell_type": "code",
   "execution_count": null,
   "id": "ed57a467",
   "metadata": {},
   "outputs": [],
   "source": [
    "# perform kmeans with optimal k=4\n",
    "opt_k = 4\n",
    "labels = single_kmeans(opt_k, X_minmax)\n",
    "# plot distribution of labels\n",
    "file_name = 'kmeans_day_i_i-1_clusters.png'\n",
    "plot_label_distr(labels, fig_size, file_name)\n",
    "# note:the clusters are still somehow imbalanced but much better"
   ]
  },
  {
   "cell_type": "code",
   "execution_count": null,
   "id": "7cd36560",
   "metadata": {},
   "outputs": [],
   "source": [
    "nrows, ncols = 2, 2\n",
    "fig_size = (12, 12)\n",
    "file_name = 'kmeans_day_i_i-1_returns.png'\n",
    "plot_return(labels, np.array(df['return_i+1']), opt_k, nrows, ncols, fig_size, file_name)"
   ]
  },
  {
   "cell_type": "markdown",
   "id": "e59648a0",
   "metadata": {},
   "source": [
    "# Clustering with data from day i, day i-1, and day i-2"
   ]
  },
  {
   "cell_type": "markdown",
   "id": "73c8d7fb",
   "metadata": {},
   "source": [
    "## Add attributes related to day i-2"
   ]
  },
  {
   "cell_type": "code",
   "execution_count": null,
   "id": "d083e627",
   "metadata": {},
   "outputs": [],
   "source": [
    "# day i-2 attributes\n",
    "# open, high, low, close, volume from 2 days before\n",
    "df['open_i-2'] = df['open'].shift(2)\n",
    "df['high_i-2'] = df['high'].shift(2)\n",
    "df['low_i-2'] = df['low'].shift(2)\n",
    "df['close_i-2'] = df['close'].shift(2)\n",
    "df['volume_i-2'] = df['volume'].shift(2)\n",
    "df.dropna(inplace=True)\n",
    "\n",
    "# ratio between day i-1 and i-2\n",
    "df['open_i-1/open_i-2'] = df['open_i-1']/df['open_i-2']\n",
    "df['high_i-1/high_i-2'] = df['high_i-1']/df['high_i-2']\n",
    "df['low_i-1/low_i-2'] = df['low_i-1']/df['low_i-2']\n",
    "df['close_i-1/close_i-2'] = df['close_i-1']/df['close_i-2']\n",
    "df['volume_i-1/volume_i-2'] = df['volume_i-1']/df['volume_i-2']\n",
    "\n",
    "\n",
    "# save clustering attributes to a new df\n",
    "use_cols = ['open/open_i-1', 'high/high_i-1', 'low/low_i-1', 'close/close_i-1',\n",
    "            'volume/volume_i-1', 'open_i-1/open_i-2', 'high_i-1/high_i-2', 'low_i-1/low_i-2',\n",
    "            'close_i-1/close_i-2', 'volume_i-1/volume_i-2']\n",
    "X = df[use_cols]\n",
    "X.head()"
   ]
  },
  {
   "cell_type": "code",
   "execution_count": null,
   "id": "ba06bb97",
   "metadata": {},
   "outputs": [],
   "source": [
    "X.var()"
   ]
  },
  {
   "cell_type": "markdown",
   "id": "6bb81124",
   "metadata": {},
   "source": [
    "## Perform clustering with standardization and plot return"
   ]
  },
  {
   "cell_type": "code",
   "execution_count": null,
   "id": "dff9d6c4",
   "metadata": {
    "scrolled": true
   },
   "outputs": [],
   "source": [
    "X_minmax = min_max_scaler.fit_transform(X)\n",
    "# perform kmeans\n",
    "k_upper = 20\n",
    "distortions = group_kmeans(k_upper, X_minmax)\n",
    "# k=4 is the optimal k with elbow method\n",
    "fig_size = (12, 8)\n",
    "file_name = 'kmeans_day_i_i-2_elbow.png'\n",
    "plot_distortions(k_upper, distortions, fig_size, file_name)"
   ]
  },
  {
   "cell_type": "code",
   "execution_count": null,
   "id": "76f1bfde",
   "metadata": {
    "scrolled": true
   },
   "outputs": [],
   "source": [
    "# perform kmeans with optimal k=4\n",
    "opt_k = 5\n",
    "labels = single_kmeans(opt_k, X_minmax)\n",
    "# plot distribution of labels\n",
    "file_name = 'kmeans_day_i_i-2_clusters.png'\n",
    "plot_label_distr(labels, fig_size, file_name)\n",
    "# note:the clusters are still somehow imbalanced"
   ]
  },
  {
   "cell_type": "code",
   "execution_count": null,
   "id": "937165aa",
   "metadata": {},
   "outputs": [],
   "source": [
    "nrows, ncols = 2, 3\n",
    "fig_size = (18, 12)\n",
    "file_name = 'kmeans_day_i_i-2_returns.png'\n",
    "plot_return(labels, np.array(df['return_i+1']), opt_k, nrows, ncols, fig_size, file_name)"
   ]
  },
  {
   "cell_type": "code",
   "execution_count": null,
   "id": "499938f9",
   "metadata": {},
   "outputs": [],
   "source": []
  }
 ],
 "metadata": {
  "kernelspec": {
   "display_name": "Python 3 (ipykernel)",
   "language": "python",
   "name": "python3"
  },
  "language_info": {
   "codemirror_mode": {
    "name": "ipython",
    "version": 3
   },
   "file_extension": ".py",
   "mimetype": "text/x-python",
   "name": "python",
   "nbconvert_exporter": "python",
   "pygments_lexer": "ipython3",
   "version": "3.8.12"
  }
 },
 "nbformat": 4,
 "nbformat_minor": 5
}

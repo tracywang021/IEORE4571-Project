{
 "cells": [
  {
   "cell_type": "code",
   "execution_count": 19,
   "id": "44a4e68b",
   "metadata": {},
   "outputs": [
    {
     "name": "stdout",
     "output_type": "stream",
     "text": [
      "The autoreload extension is already loaded. To reload it, use:\n",
      "  %reload_ext autoreload\n"
     ]
    }
   ],
   "source": [
    "from utils.cluster import group_kmeans, single_kmeans\n",
    "from utils.visualize import (\n",
    "    plot_distortions,\n",
    "    plot_label_distr,\n",
    "    plot_return,\n",
    ")\n",
    "\n",
    "import pandas as pd\n",
    "import matplotlib.pyplot as plt\n",
    "\n",
    "%load_ext autoreload\n",
    "%autoreload 2"
   ]
  },
  {
   "cell_type": "markdown",
   "id": "0d780424",
   "metadata": {},
   "source": [
    "# Clustering with data from day i and day i-1"
   ]
  },
  {
   "cell_type": "markdown",
   "id": "43862b5a",
   "metadata": {},
   "source": [
    "## Read and preprocess data"
   ]
  },
  {
   "cell_type": "code",
   "execution_count": 2,
   "id": "2cdcfa4d",
   "metadata": {},
   "outputs": [
    {
     "data": {
      "text/html": [
       "<div>\n",
       "<style scoped>\n",
       "    .dataframe tbody tr th:only-of-type {\n",
       "        vertical-align: middle;\n",
       "    }\n",
       "\n",
       "    .dataframe tbody tr th {\n",
       "        vertical-align: top;\n",
       "    }\n",
       "\n",
       "    .dataframe thead th {\n",
       "        text-align: right;\n",
       "    }\n",
       "</style>\n",
       "<table border=\"1\" class=\"dataframe\">\n",
       "  <thead>\n",
       "    <tr style=\"text-align: right;\">\n",
       "      <th></th>\n",
       "      <th>open/open_i-1</th>\n",
       "      <th>high/high_i-1</th>\n",
       "      <th>low/low_i-1</th>\n",
       "      <th>close/close_i-1</th>\n",
       "      <th>volume/volume_i-1</th>\n",
       "    </tr>\n",
       "  </thead>\n",
       "  <tbody>\n",
       "    <tr>\n",
       "      <th>1</th>\n",
       "      <td>1.000000</td>\n",
       "      <td>1.006396</td>\n",
       "      <td>1.005000</td>\n",
       "      <td>1.007112</td>\n",
       "      <td>0.478967</td>\n",
       "    </tr>\n",
       "    <tr>\n",
       "      <th>2</th>\n",
       "      <td>1.005686</td>\n",
       "      <td>1.002825</td>\n",
       "      <td>1.003554</td>\n",
       "      <td>1.002119</td>\n",
       "      <td>0.418939</td>\n",
       "    </tr>\n",
       "    <tr>\n",
       "      <th>3</th>\n",
       "      <td>1.004240</td>\n",
       "      <td>1.010563</td>\n",
       "      <td>1.005665</td>\n",
       "      <td>1.010570</td>\n",
       "      <td>2.629906</td>\n",
       "    </tr>\n",
       "    <tr>\n",
       "      <th>4</th>\n",
       "      <td>1.012667</td>\n",
       "      <td>1.005575</td>\n",
       "      <td>1.002113</td>\n",
       "      <td>1.004184</td>\n",
       "      <td>1.003967</td>\n",
       "    </tr>\n",
       "    <tr>\n",
       "      <th>5</th>\n",
       "      <td>1.000000</td>\n",
       "      <td>0.999307</td>\n",
       "      <td>1.005622</td>\n",
       "      <td>0.999306</td>\n",
       "      <td>0.925870</td>\n",
       "    </tr>\n",
       "  </tbody>\n",
       "</table>\n",
       "</div>"
      ],
      "text/plain": [
       "   open/open_i-1  high/high_i-1  low/low_i-1  close/close_i-1  \\\n",
       "1       1.000000       1.006396     1.005000         1.007112   \n",
       "2       1.005686       1.002825     1.003554         1.002119   \n",
       "3       1.004240       1.010563     1.005665         1.010570   \n",
       "4       1.012667       1.005575     1.002113         1.004184   \n",
       "5       1.000000       0.999307     1.005622         0.999306   \n",
       "\n",
       "   volume/volume_i-1  \n",
       "1           0.478967  \n",
       "2           0.418939  \n",
       "3           2.629906  \n",
       "4           1.003967  \n",
       "5           0.925870  "
      ]
     },
     "execution_count": 2,
     "metadata": {},
     "output_type": "execute_result"
    }
   ],
   "source": [
    "# read data\n",
    "READ_PATH = \"data/spy_max_221118.csv\"\n",
    "df = pd.read_csv(READ_PATH)\n",
    "\n",
    "# rename columns\n",
    "rename_dict = {\"Date\": \"date\", \"Open\": \"open\", \"High\": \"high\",\n",
    "               \"Low\": \"low\", \"Close\": \"close\", \"Volume\": \"volume\"}\n",
    "df.rename(columns=rename_dict, inplace=True)\n",
    "\n",
    "# compute next day (i+1) return\n",
    "# we assume a strategy of buying at open and selling at close\n",
    "df['open_i+1'] = df['open'].shift(-1)\n",
    "df['close_i+1'] = df['close'].shift(-1)\n",
    "df.dropna(inplace=True)\n",
    "annualized_fctr = 252\n",
    "df['return_i+1'] = (df['close_i+1']-df['open_i+1'])/df['open_i+1']*annualized_fctr\n",
    "\n",
    "# add clustering attributes \n",
    "# open, high, low, close, volume from the day before\n",
    "df['open_i-1'] = df['open'].shift(1)\n",
    "df['high_i-1'] = df['high'].shift(1)\n",
    "df['low_i-1'] = df['low'].shift(1)\n",
    "df['close_i-1'] = df['close'].shift(1)\n",
    "df['volume_i-1'] = df['volume'].shift(1)\n",
    "df.dropna(inplace=True)\n",
    "# ratio between today and yesterday\n",
    "df['open/open_i-1'] = df['open']/df['open_i-1']\n",
    "df['high/high_i-1'] = df['high']/df['high_i-1']\n",
    "df['low/low_i-1'] = df['low']/df['low_i-1']\n",
    "df['close/close_i-1'] = df['close']/df['close_i-1']\n",
    "df['volume/volume_i-1'] = df['volume']/df['volume_i-1']\n",
    "\n",
    "\n",
    "# save clustering attributes to a new df\n",
    "use_cols = ['open/open_i-1', 'high/high_i-1', 'low/low_i-1', 'close/close_i-1',\n",
    "            'volume/volume_i-1']\n",
    "X = df[use_cols]\n",
    "X.head()"
   ]
  },
  {
   "cell_type": "markdown",
   "id": "b1e12bba",
   "metadata": {},
   "source": [
    "## Perform clustering"
   ]
  },
  {
   "cell_type": "code",
   "execution_count": 3,
   "id": "7979ea17",
   "metadata": {},
   "outputs": [
    {
     "data": {
      "image/png": "[encoded data removed]",
      "text/plain": [
       "<Figure size 432x288 with 1 Axes>"
      ]
     },
     "metadata": {
      "needs_background": "light"
     },
     "output_type": "display_data"
    }
   ],
   "source": [
    "# perform kmeans\n",
    "k_upper = 20\n",
    "distortions = group_kmeans(k_upper, X)\n",
    "# k=4 is the optimal k with elbow method\n",
    "plot_distortions(k_upper, distortions)"
   ]
  },
  {
   "cell_type": "code",
   "execution_count": 4,
   "id": "3a985f3f",
   "metadata": {},
   "outputs": [
    {
     "data": {
      "image/png": "[encoded data removed]",
      "text/plain": [
       "<Figure size 432x288 with 1 Axes>"
      ]
     },
     "metadata": {
      "needs_background": "light"
     },
     "output_type": "display_data"
    }
   ],
   "source": [
    "# perform kmeans with optimal k=4\n",
    "opt_k = 4\n",
    "labels = single_kmeans(opt_k, X)\n",
    "# plot distribution of labels\n",
    "plot_label_distr(labels)\n",
    "# note:the clusters are very imbalanced -> maybe need a way to improve later"
   ]
  },
  {
   "cell_type": "markdown",
   "id": "1d7c2ad9",
   "metadata": {},
   "source": [
    "## Plot day i+1 return"
   ]
  },
  {
   "cell_type": "code",
   "execution_count": 33,
   "id": "942571ee",
   "metadata": {},
   "outputs": [
    {
     "data": {
      "image/png": "[encoded data removed]",
      "text/plain": [
       "<Figure size 720x720 with 4 Axes>"
      ]
     },
     "metadata": {
      "needs_background": "light"
     },
     "output_type": "display_data"
    }
   ],
   "source": [
    "nrows, ncols = 2, 2\n",
    "plot_return(labels, np.array(df['return_i+1']), opt_k, nrows, ncols)"
   ]
  },
  {
   "cell_type": "code",
   "execution_count": null,
   "id": "500adcc4",
   "metadata": {},
   "outputs": [],
   "source": []
  }
 ],
 "metadata": {
  "kernelspec": {
   "display_name": "Python 3 (ipykernel)",
   "language": "python",
   "name": "python3"
  },
  "language_info": {
   "codemirror_mode": {
    "name": "ipython",
    "version": 3
   },
   "file_extension": ".py",
   "mimetype": "text/x-python",
   "name": "python",
   "nbconvert_exporter": "python",
   "pygments_lexer": "ipython3",
   "version": "3.8.12"
  }
 },
 "nbformat": 4,
 "nbformat_minor": 5
}

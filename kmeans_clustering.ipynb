{
 "cells": [
  {
   "cell_type": "code",
   "execution_count": null,
   "id": "44a4e68b",
   "metadata": {},
   "outputs": [],
   "source": [
    "from utils.cluster import group_kmeans, single_kmeans\n",
    "from utils.visualize import (\n",
    "    plot_distortions,\n",
    "    plot_label_distr,\n",
    "    plot_return,\n",
    "    plot_return_box,\n",
    "    plot_qq,\n",
    "    report_return_mean_std,\n",
    ")\n",
    "\n",
    "import numpy as np\n",
    "import pandas as pd\n",
    "import matplotlib.pyplot as plt\n",
    "from sklearn.preprocessing import MinMaxScaler\n",
    "\n",
    "%load_ext autoreload\n",
    "%autoreload 2"
   ]
  },
  {
   "cell_type": "markdown",
   "id": "43862b5a",
   "metadata": {},
   "source": [
    "## Read and extract clustering attributes"
   ]
  },
  {
   "cell_type": "code",
   "execution_count": null,
   "id": "a89cd3ab",
   "metadata": {},
   "outputs": [],
   "source": [
    "# TODO: change arguments if necessary\n",
    "# read path of training data\n",
    "TRAIN_PATH = 'data/processed/xlv_max_221118_train.csv'\n",
    "# read path of testing data\n",
    "TEST_PATH = 'data/processed/xlv_max_221118_test.csv'\n",
    "# timespan of 2 uses data from day i and day i-1\n",
    "# timespan of 3 uses data from day i, day i-1, and day i-2\n",
    "timespan = 3"
   ]
  },
  {
   "cell_type": "code",
   "execution_count": null,
   "id": "1300b5c2",
   "metadata": {
    "scrolled": false
   },
   "outputs": [],
   "source": [
    "# read data\n",
    "train = pd.read_csv(TRAIN_PATH)\n",
    "test = pd.read_csv(TEST_PATH)\n",
    "\n",
    "# save clustering attributes to a new df\n",
    "if timespan == 2:\n",
    "    use_cols = ['open/open_i-1', 'high/high_i-1', 'low/low_i-1', 'close/close_i-1',\n",
    "                'volume/volume_i-1']\n",
    "else:\n",
    "    use_cols = ['open/open_i-1', 'high/high_i-1', 'low/low_i-1', 'close/close_i-1',\n",
    "            'volume/volume_i-1', 'open_i-1/open_i-2', 'high_i-1/high_i-2', 'low_i-1/low_i-2',\n",
    "            'close_i-1/close_i-2', 'volume_i-1/volume_i-2']\n",
    "    \n",
    "X = train[use_cols]\n",
    "test_X = test[use_cols]\n",
    "\n",
    "X.head()"
   ]
  },
  {
   "cell_type": "markdown",
   "id": "b1e12bba",
   "metadata": {},
   "source": [
    "## Perform clustering and plot return distribution"
   ]
  },
  {
   "cell_type": "code",
   "execution_count": null,
   "id": "7979ea17",
   "metadata": {},
   "outputs": [],
   "source": [
    "# perform kmeans\n",
    "k_upper = 20\n",
    "distortions = group_kmeans(k_upper, X)\n",
    "# k=4 is the optimal k with elbow method\n",
    "fig_size = (12, 8)\n",
    "file_name = 'kmeans_elbow_day_i_i-2_no_norm.png'\n",
    "plot_distortions(k_upper, distortions, fig_size, file_name)"
   ]
  },
  {
   "cell_type": "code",
   "execution_count": null,
   "id": "3a985f3f",
   "metadata": {},
   "outputs": [],
   "source": [
    "# perform kmeans with optimal k=4\n",
    "opt_k = 2\n",
    "model = single_kmeans(opt_k, X)\n",
    "# plot distribution of labels\n",
    "fig_size = (12, 8)\n",
    "file_name = 'kmeans_day_i_i-2_no_norm_cluster_distr.png'\n",
    "plot_label_distr(model.labels_, fig_size, file_name)\n",
    "# note:the clusters are very imbalanced -> maybe need a way to improve later"
   ]
  },
  {
   "cell_type": "markdown",
   "id": "c4e1a198",
   "metadata": {},
   "source": [
    "## Perform clustering with standardized data and plot return\n",
    "* variance of volume/volume_i-1 is much larger than the rest\n",
    "* it could be a good idea to standardize data before clustering"
   ]
  },
  {
   "cell_type": "code",
   "execution_count": null,
   "id": "08383d69",
   "metadata": {},
   "outputs": [],
   "source": [
    "print(X.var())\n",
    "# standarsize \n",
    "min_max_scaler = MinMaxScaler()\n",
    "X_minmax = min_max_scaler.fit_transform(X)"
   ]
  },
  {
   "cell_type": "code",
   "execution_count": null,
   "id": "ad4e8019",
   "metadata": {},
   "outputs": [],
   "source": [
    "# perform kmeans\n",
    "k_upper = 20\n",
    "distortions = group_kmeans(k_upper, X_minmax)\n",
    "# k=4 is the optimal k with elbow method\n",
    "fig_size = (12, 8)\n",
    "file_name = 'kmeans_day_i_i-2_elbow.png'\n",
    "plot_distortions(k_upper, distortions, fig_size, file_name)"
   ]
  },
  {
   "cell_type": "code",
   "execution_count": null,
   "id": "ed57a467",
   "metadata": {
    "scrolled": true
   },
   "outputs": [],
   "source": [
    "# perform kmeans with optimal k=4\n",
    "opt_k = 5\n",
    "model = single_kmeans(opt_k, X_minmax)\n",
    "# plot distribution of labels\n",
    "fig_size = (12, 8)\n",
    "file_name = 'kmeans_day_i_i-2_clusters.png'\n",
    "plot_label_distr(model.labels_, fig_size, file_name)\n",
    "# note:the clusters are still somehow imbalanced but much better"
   ]
  },
  {
   "cell_type": "code",
   "execution_count": null,
   "id": "7cd36560",
   "metadata": {},
   "outputs": [],
   "source": [
    "nrows, ncols = 2, 3\n",
    "fig_size = (18, 12)\n",
    "file_name = 'kmeans_day_i_i-2_returns.png'\n",
    "plot_return(model.labels_, np.array(train['return_i+1']), opt_k, nrows, ncols, fig_size, file_name)"
   ]
  },
  {
   "cell_type": "markdown",
   "id": "0a354b94",
   "metadata": {},
   "source": [
    "## Results analysis on train and test data"
   ]
  },
  {
   "cell_type": "code",
   "execution_count": null,
   "id": "0653d667",
   "metadata": {},
   "outputs": [],
   "source": [
    "# report mean and variance of each cluster return: training\n",
    "report_return_mean_std(opt_k, model.labels_, np.array(train['return_i+1']))"
   ]
  },
  {
   "cell_type": "code",
   "execution_count": null,
   "id": "1a399ef4",
   "metadata": {},
   "outputs": [],
   "source": [
    "# box plot for training returns \n",
    "fig_size = (12, 8)\n",
    "file_name = 'kmeans_day_i_i-2_returns_boxplot.png'\n",
    "plot_return_box(model.labels_, np.array(train['return_i+1']), opt_k, fig_size, file_name)"
   ]
  },
  {
   "cell_type": "code",
   "execution_count": null,
   "id": "0fe8b393",
   "metadata": {},
   "outputs": [],
   "source": [
    "# predict cluster of test data and draw distribution\n",
    "# standardize test_X\n",
    "test_X_minmax = min_max_scaler.transform(test_X)\n",
    "# predict clusters of test data\n",
    "test_pred = model.predict(test_X_minmax)\n",
    "# draw distribution\n",
    "fig_size = (12, 8)\n",
    "file_name = 'kmeans_day_i_i-2_clusters_test.png'\n",
    "plot_label_distr(test_pred, fig_size, file_name)\n",
    "# very similar distribution of clusters compared to train data\n",
    "# test data distr mirrors train data distr based on clusters"
   ]
  },
  {
   "cell_type": "code",
   "execution_count": null,
   "id": "f2b4ae85",
   "metadata": {
    "scrolled": true
   },
   "outputs": [],
   "source": [
    "nrows, ncols = 2, 3\n",
    "fig_size = (18, 12)\n",
    "file_name = 'kmeans_day_i_i-2_qq.png'\n",
    "plot_qq(model.labels_, test_pred, np.array(train['return_i+1']),\n",
    "        np.array(test['return_i+1']), opt_k, nrows, ncols, fig_size, file_name)"
   ]
  },
  {
   "cell_type": "code",
   "execution_count": null,
   "id": "32e03e1b",
   "metadata": {
    "scrolled": true
   },
   "outputs": [],
   "source": [
    "# report mean and std of test returns for each cluster\n",
    "report_return_mean_std(opt_k, test_pred, np.array(train['return_i+1']))"
   ]
  },
  {
   "cell_type": "code",
   "execution_count": null,
   "id": "a86657c0",
   "metadata": {},
   "outputs": [],
   "source": []
  }
 ],
 "metadata": {
  "kernelspec": {
   "display_name": "Python 3 (ipykernel)",
   "language": "python",
   "name": "python3"
  },
  "language_info": {
   "codemirror_mode": {
    "name": "ipython",
    "version": 3
   },
   "file_extension": ".py",
   "mimetype": "text/x-python",
   "name": "python",
   "nbconvert_exporter": "python",
   "pygments_lexer": "ipython3",
   "version": "3.8.12"
  }
 },
 "nbformat": 4,
 "nbformat_minor": 5
}
